{
 "cells": [
  {
   "cell_type": "code",
   "execution_count": 62,
   "id": "4ee29773-dfa3-4e42-b977-24fc89eb7dd3",
   "metadata": {},
   "outputs": [],
   "source": [
    "import pandas as pd "
   ]
  },
  {
   "cell_type": "code",
   "execution_count": 63,
   "id": "a1b5e23e-a630-4d6c-b24f-0651fc16904e",
   "metadata": {},
   "outputs": [],
   "source": [
    "df=pd.read_csv(\"spotify_millsongdata.csv\")\n"
   ]
  },
  {
   "cell_type": "code",
   "execution_count": 64,
   "id": "557bff5a-10dc-483d-9012-dd7d3af3f6c1",
   "metadata": {},
   "outputs": [
    {
     "data": {
      "text/html": [
       "<div>\n",
       "<style scoped>\n",
       "    .dataframe tbody tr th:only-of-type {\n",
       "        vertical-align: middle;\n",
       "    }\n",
       "\n",
       "    .dataframe tbody tr th {\n",
       "        vertical-align: top;\n",
       "    }\n",
       "\n",
       "    .dataframe thead th {\n",
       "        text-align: right;\n",
       "    }\n",
       "</style>\n",
       "<table border=\"1\" class=\"dataframe\">\n",
       "  <thead>\n",
       "    <tr style=\"text-align: right;\">\n",
       "      <th></th>\n",
       "      <th>artist</th>\n",
       "      <th>song</th>\n",
       "      <th>link</th>\n",
       "      <th>text</th>\n",
       "    </tr>\n",
       "  </thead>\n",
       "  <tbody>\n",
       "    <tr>\n",
       "      <th>0</th>\n",
       "      <td>ABBA</td>\n",
       "      <td>Ahe's My Kind Of Girl</td>\n",
       "      <td>/a/abba/ahes+my+kind+of+girl_20598417.html</td>\n",
       "      <td>Look at her face, it's a wonderful face  \\r\\nA...</td>\n",
       "    </tr>\n",
       "    <tr>\n",
       "      <th>1</th>\n",
       "      <td>ABBA</td>\n",
       "      <td>Andante, Andante</td>\n",
       "      <td>/a/abba/andante+andante_20002708.html</td>\n",
       "      <td>Take it easy with me, please  \\r\\nTouch me gen...</td>\n",
       "    </tr>\n",
       "    <tr>\n",
       "      <th>2</th>\n",
       "      <td>ABBA</td>\n",
       "      <td>As Good As New</td>\n",
       "      <td>/a/abba/as+good+as+new_20003033.html</td>\n",
       "      <td>I'll never know why I had to go  \\r\\nWhy I had...</td>\n",
       "    </tr>\n",
       "    <tr>\n",
       "      <th>3</th>\n",
       "      <td>ABBA</td>\n",
       "      <td>Bang</td>\n",
       "      <td>/a/abba/bang_20598415.html</td>\n",
       "      <td>Making somebody happy is a question of give an...</td>\n",
       "    </tr>\n",
       "    <tr>\n",
       "      <th>4</th>\n",
       "      <td>ABBA</td>\n",
       "      <td>Bang-A-Boomerang</td>\n",
       "      <td>/a/abba/bang+a+boomerang_20002668.html</td>\n",
       "      <td>Making somebody happy is a question of give an...</td>\n",
       "    </tr>\n",
       "  </tbody>\n",
       "</table>\n",
       "</div>"
      ],
      "text/plain": [
       "  artist                   song                                        link  \\\n",
       "0   ABBA  Ahe's My Kind Of Girl  /a/abba/ahes+my+kind+of+girl_20598417.html   \n",
       "1   ABBA       Andante, Andante       /a/abba/andante+andante_20002708.html   \n",
       "2   ABBA         As Good As New        /a/abba/as+good+as+new_20003033.html   \n",
       "3   ABBA                   Bang                  /a/abba/bang_20598415.html   \n",
       "4   ABBA       Bang-A-Boomerang      /a/abba/bang+a+boomerang_20002668.html   \n",
       "\n",
       "                                                text  \n",
       "0  Look at her face, it's a wonderful face  \\r\\nA...  \n",
       "1  Take it easy with me, please  \\r\\nTouch me gen...  \n",
       "2  I'll never know why I had to go  \\r\\nWhy I had...  \n",
       "3  Making somebody happy is a question of give an...  \n",
       "4  Making somebody happy is a question of give an...  "
      ]
     },
     "execution_count": 64,
     "metadata": {},
     "output_type": "execute_result"
    }
   ],
   "source": [
    "df.head(5)"
   ]
  },
  {
   "cell_type": "code",
   "execution_count": 65,
   "id": "61788034-ad87-47fa-9c07-90efca59ac1a",
   "metadata": {},
   "outputs": [
    {
     "data": {
      "text/html": [
       "<div>\n",
       "<style scoped>\n",
       "    .dataframe tbody tr th:only-of-type {\n",
       "        vertical-align: middle;\n",
       "    }\n",
       "\n",
       "    .dataframe tbody tr th {\n",
       "        vertical-align: top;\n",
       "    }\n",
       "\n",
       "    .dataframe thead th {\n",
       "        text-align: right;\n",
       "    }\n",
       "</style>\n",
       "<table border=\"1\" class=\"dataframe\">\n",
       "  <thead>\n",
       "    <tr style=\"text-align: right;\">\n",
       "      <th></th>\n",
       "      <th>artist</th>\n",
       "      <th>song</th>\n",
       "      <th>link</th>\n",
       "      <th>text</th>\n",
       "    </tr>\n",
       "  </thead>\n",
       "  <tbody>\n",
       "    <tr>\n",
       "      <th>57645</th>\n",
       "      <td>Ziggy Marley</td>\n",
       "      <td>Good Old Days</td>\n",
       "      <td>/z/ziggy+marley/good+old+days_10198588.html</td>\n",
       "      <td>Irie days come on play  \\r\\nLet the angels fly...</td>\n",
       "    </tr>\n",
       "    <tr>\n",
       "      <th>57646</th>\n",
       "      <td>Ziggy Marley</td>\n",
       "      <td>Hand To Mouth</td>\n",
       "      <td>/z/ziggy+marley/hand+to+mouth_20531167.html</td>\n",
       "      <td>Power to the workers  \\r\\nMore power  \\r\\nPowe...</td>\n",
       "    </tr>\n",
       "    <tr>\n",
       "      <th>57647</th>\n",
       "      <td>Zwan</td>\n",
       "      <td>Come With Me</td>\n",
       "      <td>/z/zwan/come+with+me_20148981.html</td>\n",
       "      <td>all you need  \\r\\nis something i'll believe  \\...</td>\n",
       "    </tr>\n",
       "    <tr>\n",
       "      <th>57648</th>\n",
       "      <td>Zwan</td>\n",
       "      <td>Desire</td>\n",
       "      <td>/z/zwan/desire_20148986.html</td>\n",
       "      <td>northern star  \\r\\nam i frightened  \\r\\nwhere ...</td>\n",
       "    </tr>\n",
       "    <tr>\n",
       "      <th>57649</th>\n",
       "      <td>Zwan</td>\n",
       "      <td>Heartsong</td>\n",
       "      <td>/z/zwan/heartsong_20148991.html</td>\n",
       "      <td>come in  \\r\\nmake yourself at home  \\r\\ni'm a ...</td>\n",
       "    </tr>\n",
       "  </tbody>\n",
       "</table>\n",
       "</div>"
      ],
      "text/plain": [
       "             artist           song  \\\n",
       "57645  Ziggy Marley  Good Old Days   \n",
       "57646  Ziggy Marley  Hand To Mouth   \n",
       "57647          Zwan   Come With Me   \n",
       "57648          Zwan         Desire   \n",
       "57649          Zwan      Heartsong   \n",
       "\n",
       "                                              link  \\\n",
       "57645  /z/ziggy+marley/good+old+days_10198588.html   \n",
       "57646  /z/ziggy+marley/hand+to+mouth_20531167.html   \n",
       "57647           /z/zwan/come+with+me_20148981.html   \n",
       "57648                 /z/zwan/desire_20148986.html   \n",
       "57649              /z/zwan/heartsong_20148991.html   \n",
       "\n",
       "                                                    text  \n",
       "57645  Irie days come on play  \\r\\nLet the angels fly...  \n",
       "57646  Power to the workers  \\r\\nMore power  \\r\\nPowe...  \n",
       "57647  all you need  \\r\\nis something i'll believe  \\...  \n",
       "57648  northern star  \\r\\nam i frightened  \\r\\nwhere ...  \n",
       "57649  come in  \\r\\nmake yourself at home  \\r\\ni'm a ...  "
      ]
     },
     "execution_count": 65,
     "metadata": {},
     "output_type": "execute_result"
    }
   ],
   "source": [
    "df.tail(5)"
   ]
  },
  {
   "cell_type": "code",
   "execution_count": 66,
   "id": "1f67888d-d8b6-48a7-9a6a-d6b17039841d",
   "metadata": {},
   "outputs": [
    {
     "data": {
      "text/plain": [
       "(57650, 4)"
      ]
     },
     "execution_count": 66,
     "metadata": {},
     "output_type": "execute_result"
    }
   ],
   "source": [
    "df.shape\n"
   ]
  },
  {
   "cell_type": "code",
   "execution_count": 67,
   "id": "028939ab-59a7-43aa-b55b-cdf0cc7ac4a5",
   "metadata": {},
   "outputs": [
    {
     "data": {
      "text/plain": [
       "artist    0\n",
       "song      0\n",
       "link      0\n",
       "text      0\n",
       "dtype: int64"
      ]
     },
     "execution_count": 67,
     "metadata": {},
     "output_type": "execute_result"
    }
   ],
   "source": [
    "df.isnull().sum()"
   ]
  },
  {
   "cell_type": "code",
   "execution_count": 68,
   "id": "c513638a-cbb0-44a1-89f9-37ccbee1c7c1",
   "metadata": {},
   "outputs": [],
   "source": [
    "df=df.sample(5000).drop('link', axis=1).reset_index(drop=True)"
   ]
  },
  {
   "cell_type": "code",
   "execution_count": 69,
   "id": "bb2a7381-feb4-4519-adf7-8f011a1f44b9",
   "metadata": {},
   "outputs": [
    {
     "data": {
      "text/html": [
       "<div>\n",
       "<style scoped>\n",
       "    .dataframe tbody tr th:only-of-type {\n",
       "        vertical-align: middle;\n",
       "    }\n",
       "\n",
       "    .dataframe tbody tr th {\n",
       "        vertical-align: top;\n",
       "    }\n",
       "\n",
       "    .dataframe thead th {\n",
       "        text-align: right;\n",
       "    }\n",
       "</style>\n",
       "<table border=\"1\" class=\"dataframe\">\n",
       "  <thead>\n",
       "    <tr style=\"text-align: right;\">\n",
       "      <th></th>\n",
       "      <th>artist</th>\n",
       "      <th>song</th>\n",
       "      <th>text</th>\n",
       "    </tr>\n",
       "  </thead>\n",
       "  <tbody>\n",
       "    <tr>\n",
       "      <th>0</th>\n",
       "      <td>Britney Spears</td>\n",
       "      <td>Lace And Leather</td>\n",
       "      <td>French fingertips,  \\r\\nRed lips  \\r\\nBitch is...</td>\n",
       "    </tr>\n",
       "    <tr>\n",
       "      <th>1</th>\n",
       "      <td>Weezer</td>\n",
       "      <td>Troublemaker</td>\n",
       "      <td>Put me in  \\r\\nA special school  \\r\\n'Cause I ...</td>\n",
       "    </tr>\n",
       "    <tr>\n",
       "      <th>2</th>\n",
       "      <td>John Waite</td>\n",
       "      <td>When I See You Smile</td>\n",
       "      <td>Sometimes I wonder  \\r\\nIf I'd ever make it th...</td>\n",
       "    </tr>\n",
       "    <tr>\n",
       "      <th>3</th>\n",
       "      <td>Johnny Cash</td>\n",
       "      <td>25 Minutes To Go</td>\n",
       "      <td>Well they're building a gallows outside my cel...</td>\n",
       "    </tr>\n",
       "    <tr>\n",
       "      <th>4</th>\n",
       "      <td>Divine</td>\n",
       "      <td>Missing U</td>\n",
       "      <td>I ain't missing you  \\r\\nDon't care what you d...</td>\n",
       "    </tr>\n",
       "    <tr>\n",
       "      <th>5</th>\n",
       "      <td>Deep Purple</td>\n",
       "      <td>One More Rainy Day</td>\n",
       "      <td>Changes, visible changes  \\r\\nSky looking so f...</td>\n",
       "    </tr>\n",
       "    <tr>\n",
       "      <th>6</th>\n",
       "      <td>Emmylou Harris</td>\n",
       "      <td>Coat Of Many Colors</td>\n",
       "      <td>(Dolly Parton)  \\r\\n  \\r\\nBack through the yea...</td>\n",
       "    </tr>\n",
       "    <tr>\n",
       "      <th>7</th>\n",
       "      <td>Helloween</td>\n",
       "      <td>Hocus Pocus</td>\n",
       "      <td>Yodeadodoyodeadodoyodeadodoyodeadodo  \\r\\nYode...</td>\n",
       "    </tr>\n",
       "    <tr>\n",
       "      <th>8</th>\n",
       "      <td>Carly Simon</td>\n",
       "      <td>Davy</td>\n",
       "      <td>Davy, is there a song out there in the night  ...</td>\n",
       "    </tr>\n",
       "    <tr>\n",
       "      <th>9</th>\n",
       "      <td>Clash</td>\n",
       "      <td>Garageland</td>\n",
       "      <td>Back in the garage with my bullshit detector  ...</td>\n",
       "    </tr>\n",
       "  </tbody>\n",
       "</table>\n",
       "</div>"
      ],
      "text/plain": [
       "           artist                  song  \\\n",
       "0  Britney Spears      Lace And Leather   \n",
       "1          Weezer          Troublemaker   \n",
       "2      John Waite  When I See You Smile   \n",
       "3     Johnny Cash      25 Minutes To Go   \n",
       "4          Divine             Missing U   \n",
       "5     Deep Purple    One More Rainy Day   \n",
       "6  Emmylou Harris   Coat Of Many Colors   \n",
       "7       Helloween           Hocus Pocus   \n",
       "8     Carly Simon                  Davy   \n",
       "9           Clash            Garageland   \n",
       "\n",
       "                                                text  \n",
       "0  French fingertips,  \\r\\nRed lips  \\r\\nBitch is...  \n",
       "1  Put me in  \\r\\nA special school  \\r\\n'Cause I ...  \n",
       "2  Sometimes I wonder  \\r\\nIf I'd ever make it th...  \n",
       "3  Well they're building a gallows outside my cel...  \n",
       "4  I ain't missing you  \\r\\nDon't care what you d...  \n",
       "5  Changes, visible changes  \\r\\nSky looking so f...  \n",
       "6  (Dolly Parton)  \\r\\n  \\r\\nBack through the yea...  \n",
       "7  Yodeadodoyodeadodoyodeadodoyodeadodo  \\r\\nYode...  \n",
       "8  Davy, is there a song out there in the night  ...  \n",
       "9  Back in the garage with my bullshit detector  ...  "
      ]
     },
     "execution_count": 69,
     "metadata": {},
     "output_type": "execute_result"
    }
   ],
   "source": [
    "df.head(10)"
   ]
  },
  {
   "cell_type": "code",
   "execution_count": 70,
   "id": "9fcc9ed4-f117-49ec-8f2e-25e71da95101",
   "metadata": {},
   "outputs": [
    {
     "data": {
      "text/plain": [
       "\"French fingertips,  \\r\\nRed lips  \\r\\nBitch is dangerous  \\r\\nCotton candy kiss  \\r\\nCan't wait for my sugar rush  \\r\\n  \\r\\nCan't take it no more  \\r\\nI got to have more tonight  \\r\\nThis feeling's so strong  \\r\\nI'm putting you on tonight  \\r\\n  \\r\\nAlright, let's go!  \\r\\n  \\r\\n[Chorus]  \\r\\nBaby take a seat  \\r\\nEyes on me this is my show  \\r\\nYour one and only pleasure  \\r\\nAll decked in lace and leather  \\r\\nFantasy, courtesy of me  \\r\\nBaby let's go  \\r\\nWatch me apply the pressure  \\r\\nAll decked in lace and leather  \\r\\n  \\r\\nHeels 6 inch  \\r\\nMakes a boy wanna bite his lip  \\r\\nLook but don't touch  \\r\\nUnless you want to lose your innocence  \\r\\n  \\r\\nCan't take it no more  \\r\\nI got to have more tonight  \\r\\nThis feelings so strong  \\r\\nI'm putting you on tonight  \\r\\n  \\r\\n[Chorus: x2]\\r\\n\\r\\n\""
      ]
     },
     "execution_count": 70,
     "metadata": {},
     "output_type": "execute_result"
    }
   ],
   "source": [
    "df['text'][0]"
   ]
  },
  {
   "cell_type": "code",
   "execution_count": 71,
   "id": "f004e34a-c118-45a2-bbf4-af91614984fd",
   "metadata": {},
   "outputs": [
    {
     "data": {
      "text/plain": [
       "(5000, 3)"
      ]
     },
     "execution_count": 71,
     "metadata": {},
     "output_type": "execute_result"
    }
   ],
   "source": [
    "df.shape"
   ]
  },
  {
   "cell_type": "markdown",
   "id": "ec326a9e-ee34-4908-813a-d2f892ec1223",
   "metadata": {},
   "source": [
    "Text cleaning"
   ]
  },
  {
   "cell_type": "code",
   "execution_count": 72,
   "id": "4acb8646-ba96-4562-a42a-32e5e6422e6d",
   "metadata": {},
   "outputs": [],
   "source": [
    "df['text']=df['text'].str.lower().replace(r'^\\w\\s', ' ').replace(r'\\n', ' ',regex = True)"
   ]
  },
  {
   "cell_type": "code",
   "execution_count": 73,
   "id": "20a014b0-860d-42d4-be87-dfb25ccb65c0",
   "metadata": {},
   "outputs": [
    {
     "data": {
      "text/html": [
       "<div>\n",
       "<style scoped>\n",
       "    .dataframe tbody tr th:only-of-type {\n",
       "        vertical-align: middle;\n",
       "    }\n",
       "\n",
       "    .dataframe tbody tr th {\n",
       "        vertical-align: top;\n",
       "    }\n",
       "\n",
       "    .dataframe thead th {\n",
       "        text-align: right;\n",
       "    }\n",
       "</style>\n",
       "<table border=\"1\" class=\"dataframe\">\n",
       "  <thead>\n",
       "    <tr style=\"text-align: right;\">\n",
       "      <th></th>\n",
       "      <th>artist</th>\n",
       "      <th>song</th>\n",
       "      <th>text</th>\n",
       "    </tr>\n",
       "  </thead>\n",
       "  <tbody>\n",
       "    <tr>\n",
       "      <th>4995</th>\n",
       "      <td>Europe</td>\n",
       "      <td>Hero</td>\n",
       "      <td>it's not like i wouldn't dream  \\r if you had ...</td>\n",
       "    </tr>\n",
       "    <tr>\n",
       "      <th>4996</th>\n",
       "      <td>David Allan Coe</td>\n",
       "      <td>Sweet Angeline</td>\n",
       "      <td>sweet angeline i hope nobody ever hurts you an...</td>\n",
       "    </tr>\n",
       "    <tr>\n",
       "      <th>4997</th>\n",
       "      <td>U2</td>\n",
       "      <td>Electrical Storm</td>\n",
       "      <td>the sea, it swells like a sore head  \\r and th...</td>\n",
       "    </tr>\n",
       "    <tr>\n",
       "      <th>4998</th>\n",
       "      <td>Dolly Parton</td>\n",
       "      <td>I Don't Believe You've Met My Baby</td>\n",
       "      <td>last night, my tears they were fallin'  \\r i w...</td>\n",
       "    </tr>\n",
       "    <tr>\n",
       "      <th>4999</th>\n",
       "      <td>New Order</td>\n",
       "      <td>Ultraviolence</td>\n",
       "      <td>who saw those dark eyes  \\r who saw those dark...</td>\n",
       "    </tr>\n",
       "  </tbody>\n",
       "</table>\n",
       "</div>"
      ],
      "text/plain": [
       "               artist                                song  \\\n",
       "4995           Europe                                Hero   \n",
       "4996  David Allan Coe                      Sweet Angeline   \n",
       "4997               U2                    Electrical Storm   \n",
       "4998     Dolly Parton  I Don't Believe You've Met My Baby   \n",
       "4999        New Order                       Ultraviolence   \n",
       "\n",
       "                                                   text  \n",
       "4995  it's not like i wouldn't dream  \\r if you had ...  \n",
       "4996  sweet angeline i hope nobody ever hurts you an...  \n",
       "4997  the sea, it swells like a sore head  \\r and th...  \n",
       "4998  last night, my tears they were fallin'  \\r i w...  \n",
       "4999  who saw those dark eyes  \\r who saw those dark...  "
      ]
     },
     "execution_count": 73,
     "metadata": {},
     "output_type": "execute_result"
    }
   ],
   "source": [
    "df.tail(5)"
   ]
  },
  {
   "cell_type": "code",
   "execution_count": 74,
   "id": "38dd3795-a2ff-4fde-ad09-9f7bb632ee29",
   "metadata": {},
   "outputs": [],
   "source": [
    "import nltk\n",
    "from nltk.stem.porter import PorterStemmer\n",
    "stemmer = PorterStemmer()\n",
    "\n",
    "def tokenization(txt):\n",
    "    tokens = nltk.word_tokenize(txt)\n",
    "    stemming = [stemmer.stem(w) for w in tokens]\n",
    "    return \" \".join(stemming)"
   ]
  },
  {
   "cell_type": "code",
   "execution_count": 75,
   "id": "06b063cd-b9e8-4656-b926-d440f74a5368",
   "metadata": {
    "scrolled": true
   },
   "outputs": [
    {
     "data": {
      "text/plain": [
       "'you are beauti , beauti !'"
      ]
     },
     "execution_count": 75,
     "metadata": {},
     "output_type": "execute_result"
    }
   ],
   "source": [
    "token(\"You are beautiful, beauty!\")\n"
   ]
  },
  {
   "cell_type": "code",
   "execution_count": 76,
   "id": "7ef2db5a-7c04-46e9-888d-68881fabd19a",
   "metadata": {},
   "outputs": [],
   "source": [
    "df['text'] = df[\"text\"].apply(lambda x: tokenization(x))"
   ]
  },
  {
   "cell_type": "code",
   "execution_count": 77,
   "id": "39bc3d7a-9022-4145-90a1-c6a06e524318",
   "metadata": {},
   "outputs": [],
   "source": [
    "from sklearn.feature_extraction.text import TfidfVectorizer\n",
    "from sklearn.metrics.pairwise import cosine_similarity"
   ]
  },
  {
   "cell_type": "code",
   "execution_count": 78,
   "id": "e417cd60-5b11-4187-9c30-60c9f58d972b",
   "metadata": {},
   "outputs": [],
   "source": [
    "tfidvector = TfidfVectorizer(analyzer='word',stop_words='english')\n",
    "matrix = tfidvector.fit_transform(df['text'])\n",
    "similarity = cosine_similarity(matrix)"
   ]
  },
  {
   "cell_type": "code",
   "execution_count": 79,
   "id": "82c5cdae-a679-46d9-9122-dbad057c4b42",
   "metadata": {},
   "outputs": [
    {
     "data": {
      "text/plain": [
       "array([1.        , 0.04263393, 0.08583241, ..., 0.04286687, 0.04118323,\n",
       "       0.02772887])"
      ]
     },
     "execution_count": 79,
     "metadata": {},
     "output_type": "execute_result"
    }
   ],
   "source": [
    "similarity[0]"
   ]
  },
  {
   "cell_type": "code",
   "execution_count": 82,
   "id": "8bbebf72-ba44-4049-8581-e476ad8f3069",
   "metadata": {},
   "outputs": [
    {
     "data": {
      "text/plain": [
       "np.int64(4999)"
      ]
     },
     "execution_count": 82,
     "metadata": {},
     "output_type": "execute_result"
    }
   ],
   "source": [
    "df[df['song'] == 'Ultraviolence'].index[0]"
   ]
  },
  {
   "cell_type": "code",
   "execution_count": 85,
   "id": "6c90462b-8e9c-4e6a-a7ee-91ffc12e8404",
   "metadata": {},
   "outputs": [],
   "source": [
    "def recommender(song_name):\n",
    "    idx = df[df['song']==song_name].index[0]\n",
    "    distances = sorted(list(enumerate(similarity[idx])),reverse=True, key = lambda x:x[1])\n",
    "    songs = []\n",
    "    for s_id in distances[1:21]:\n",
    "        songs.append(df.iloc[s_id[0]].song)\n",
    "    return songs"
   ]
  },
  {
   "cell_type": "code",
   "execution_count": 86,
   "id": "cb709462-b0d1-49a5-909c-02684d16fc7e",
   "metadata": {},
   "outputs": [
    {
     "data": {
      "text/plain": [
       "['2 Years On',\n",
       " \"Daddy's Song\",\n",
       " 'A Year',\n",
       " 'Wasted Years',\n",
       " 'After All The Good Is Gone',\n",
       " 'This Must Be The Place I Waited Years To Leave',\n",
       " 'All Through The Years',\n",
       " 'Take Me For What I Am',\n",
       " 'Please Come Home',\n",
       " 'Deep',\n",
       " 'Million Years Ago',\n",
       " 'Caught In The Balance',\n",
       " 'Loving You Again',\n",
       " 'The First Time Ever I Saw Your Face',\n",
       " 'Man Of The Year',\n",
       " 'Gone, Gone Blues',\n",
       " 'I Witness',\n",
       " 'When Things Explode',\n",
       " 'Still Crazy After All These Years',\n",
       " 'Heresy']"
      ]
     },
     "execution_count": 86,
     "metadata": {},
     "output_type": "execute_result"
    }
   ],
   "source": [
    "recommender('Ultraviolence')"
   ]
  },
  {
   "cell_type": "code",
   "execution_count": 87,
   "id": "25d2e7a9-9309-4345-9a34-fcdbeb5d4476",
   "metadata": {},
   "outputs": [],
   "source": [
    "import pickle"
   ]
  },
  {
   "cell_type": "code",
   "execution_count": 88,
   "id": "9e233f0b-128d-493d-b7b8-1dc141f311ea",
   "metadata": {},
   "outputs": [],
   "source": [
    "pickle.dump(similarity, open(\"similar\", \"wb\"))"
   ]
  },
  {
   "cell_type": "code",
   "execution_count": 89,
   "id": "3f995223-5079-45f5-84e2-de80c6605af1",
   "metadata": {},
   "outputs": [],
   "source": [
    "pickle.dump(df, open(\"df\", \"wb\"))"
   ]
  },
  {
   "cell_type": "code",
   "execution_count": null,
   "id": "1552ad05-b54e-4793-b8a2-2861ab0ee496",
   "metadata": {},
   "outputs": [],
   "source": []
  }
 ],
 "metadata": {
  "kernelspec": {
   "display_name": "Python 3 (ipykernel)",
   "language": "python",
   "name": "python3"
  },
  "language_info": {
   "codemirror_mode": {
    "name": "ipython",
    "version": 3
   },
   "file_extension": ".py",
   "mimetype": "text/x-python",
   "name": "python",
   "nbconvert_exporter": "python",
   "pygments_lexer": "ipython3",
   "version": "3.12.6"
  }
 },
 "nbformat": 4,
 "nbformat_minor": 5
}
